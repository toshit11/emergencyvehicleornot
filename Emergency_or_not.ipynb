{
  "nbformat": 4,
  "nbformat_minor": 0,
  "metadata": {
    "colab": {
      "name": "Emergency or not.ipynb",
      "provenance": [],
      "mount_file_id": "1TyOTcWKVe32wTByjxWnr_oVp7m_dfB8E",
      "authorship_tag": "ABX9TyM6d9Mwls+jrawqlsEd+T1I",
      "include_colab_link": true
    },
    "kernelspec": {
      "name": "python3",
      "display_name": "Python 3"
    },
    "accelerator": "GPU"
  },
  "cells": [
    {
      "cell_type": "markdown",
      "metadata": {
        "id": "view-in-github",
        "colab_type": "text"
      },
      "source": [
        "<a href=\"https://colab.research.google.com/github/toshit11/emergencyvehicleornot/blob/master/Emergency_or_not.ipynb\" target=\"_parent\"><img src=\"https://colab.research.google.com/assets/colab-badge.svg\" alt=\"Open In Colab\"/></a>"
      ]
    },
    {
      "cell_type": "code",
      "metadata": {
        "id": "h9XkyRzojiv1",
        "colab_type": "code",
        "outputId": "8e4c9e4d-aae8-45d5-f900-44a052a40aeb",
        "colab": {
          "base_uri": "https://localhost:8080/",
          "height": 34
        }
      },
      "source": [
        "\n",
        "import keras\n",
        "from keras.models import Sequential\n",
        "from keras.layers import Dense, Dropout, Flatten\n",
        "from keras.layers import Conv2D, MaxPooling2D,AveragePooling2D\n",
        "from keras.utils import to_categorical\n",
        "from keras.preprocessing import image\n",
        "import numpy as np\n",
        "import pandas as pd\n",
        "import matplotlib.pyplot as plt\n",
        "from sklearn.model_selection import train_test_split\n",
        "from tqdm import tqdm\n",
        "\n",
        "train = pd.read_csv('/content/drive/My Drive/analy/train.csv')\n",
        "train.head() \n",
        "\n",
        "train_image = []\n",
        "for i in tqdm(range(train.shape[0])):\n",
        "    img = image.load_img('/content/drive/My Drive/analy/images/'+train['image_names'][i],target_size=(150,150,3))\n",
        "    img = image.img_to_array(img)\n",
        "    img = img/255\n",
        "    train_image.append(img)\n",
        "X = np.array(train_image)\n",
        "\n",
        "y = np.array(train.drop(['image_names'],axis=1))"
      ],
      "execution_count": 0,
      "outputs": [
        {
          "output_type": "stream",
          "text": [
            "100%|██████████| 1646/1646 [00:03<00:00, 459.72it/s]\n"
          ],
          "name": "stderr"
        }
      ]
    },
    {
      "cell_type": "code",
      "metadata": {
        "id": "KcJY1KLX4Px9",
        "colab_type": "code",
        "colab": {}
      },
      "source": [
        "X_train, X_test, y_train, y_test = train_test_split(X, y, random_state=42, test_size=0.1)"
      ],
      "execution_count": 0,
      "outputs": []
    },
    {
      "cell_type": "code",
      "metadata": {
        "id": "Mhu76N7i4WS7",
        "colab_type": "code",
        "colab": {}
      },
      "source": [
        "LReLu= keras.layers.LeakyReLU()\n",
        "\n",
        "model = Sequential()\n",
        "model.add(Conv2D(filters=32, kernel_size=(5,5), activation='relu', input_shape=(150,150,3)))\n",
        "model.add(Conv2D(filters=64, kernel_size=(3, 3), activation='relu'))\n",
        "model.add(MaxPooling2D(pool_size=(2, 2)))\n",
        "model.add(Dropout(rate=0.25))\n",
        "model.add(Conv2D(filters=64, kernel_size=(3, 3), activation='relu'))\n",
        "model.add(MaxPooling2D(pool_size=(2, 2)))\n",
        "model.add(Dropout(rate=0.25))\n",
        "model.add(Flatten())\n",
        "model.add(Dense(256, activation='relu'))\n",
        "model.add(Dropout(rate=0.5))\n",
        "model.add(Dense(1, activation='sigmoid'))\n",
        "\n",
        "model.compile(optimizer='adam', loss='binary_crossentropy', metrics=['accuracy'])"
      ],
      "execution_count": 0,
      "outputs": []
    },
    {
      "cell_type": "code",
      "metadata": {
        "id": "B5QlIiMUFZpB",
        "colab_type": "code",
        "outputId": "31baa275-e137-4e12-d77c-218984f13233",
        "colab": {
          "base_uri": "https://localhost:8080/",
          "height": 745
        }
      },
      "source": [
        "model.fit(X_train, y_train, epochs=20, validation_data=(X_test, y_test), batch_size=64)"
      ],
      "execution_count": 0,
      "outputs": [
        {
          "output_type": "stream",
          "text": [
            "Train on 1481 samples, validate on 165 samples\n",
            "Epoch 1/20\n",
            "1481/1481 [==============================] - 2s 1ms/step - loss: 1.4316 - accuracy: 0.5409 - val_loss: 0.6534 - val_accuracy: 0.6182\n",
            "Epoch 2/20\n",
            "1481/1481 [==============================] - 2s 1ms/step - loss: 0.6498 - accuracy: 0.6090 - val_loss: 0.6745 - val_accuracy: 0.6667\n",
            "Epoch 3/20\n",
            "1481/1481 [==============================] - 2s 1ms/step - loss: 0.6088 - accuracy: 0.6671 - val_loss: 0.5603 - val_accuracy: 0.6970\n",
            "Epoch 4/20\n",
            "1481/1481 [==============================] - 2s 1ms/step - loss: 0.5563 - accuracy: 0.7319 - val_loss: 0.5802 - val_accuracy: 0.7091\n",
            "Epoch 5/20\n",
            "1481/1481 [==============================] - 2s 1ms/step - loss: 0.5280 - accuracy: 0.7515 - val_loss: 0.5400 - val_accuracy: 0.7515\n",
            "Epoch 6/20\n",
            "1481/1481 [==============================] - 2s 1ms/step - loss: 0.4729 - accuracy: 0.7806 - val_loss: 0.4736 - val_accuracy: 0.8242\n",
            "Epoch 7/20\n",
            "1481/1481 [==============================] - 2s 1ms/step - loss: 0.4303 - accuracy: 0.8177 - val_loss: 0.4589 - val_accuracy: 0.7879\n",
            "Epoch 8/20\n",
            "1481/1481 [==============================] - 2s 1ms/step - loss: 0.3783 - accuracy: 0.8217 - val_loss: 0.5220 - val_accuracy: 0.6970\n",
            "Epoch 9/20\n",
            "1481/1481 [==============================] - 2s 1ms/step - loss: 0.3256 - accuracy: 0.8629 - val_loss: 0.4772 - val_accuracy: 0.7697\n",
            "Epoch 10/20\n",
            "1481/1481 [==============================] - 2s 1ms/step - loss: 0.2853 - accuracy: 0.8751 - val_loss: 0.4629 - val_accuracy: 0.7939\n",
            "Epoch 11/20\n",
            "1481/1481 [==============================] - 2s 1ms/step - loss: 0.2069 - accuracy: 0.9183 - val_loss: 0.4835 - val_accuracy: 0.7939\n",
            "Epoch 12/20\n",
            "1481/1481 [==============================] - 2s 1ms/step - loss: 0.1832 - accuracy: 0.9203 - val_loss: 0.5555 - val_accuracy: 0.7818\n",
            "Epoch 13/20\n",
            "1481/1481 [==============================] - 2s 1ms/step - loss: 0.1271 - accuracy: 0.9480 - val_loss: 0.5678 - val_accuracy: 0.7939\n",
            "Epoch 14/20\n",
            "1481/1481 [==============================] - 2s 1ms/step - loss: 0.1162 - accuracy: 0.9561 - val_loss: 0.5971 - val_accuracy: 0.7758\n",
            "Epoch 15/20\n",
            "1481/1481 [==============================] - 2s 1ms/step - loss: 0.0973 - accuracy: 0.9683 - val_loss: 0.6561 - val_accuracy: 0.7818\n",
            "Epoch 16/20\n",
            "1481/1481 [==============================] - 2s 1ms/step - loss: 0.0622 - accuracy: 0.9791 - val_loss: 0.7486 - val_accuracy: 0.7818\n",
            "Epoch 17/20\n",
            "1481/1481 [==============================] - 2s 1ms/step - loss: 0.0493 - accuracy: 0.9865 - val_loss: 0.9578 - val_accuracy: 0.7576\n",
            "Epoch 18/20\n",
            "1481/1481 [==============================] - 2s 1ms/step - loss: 0.0479 - accuracy: 0.9824 - val_loss: 0.8222 - val_accuracy: 0.7515\n",
            "Epoch 19/20\n",
            "1481/1481 [==============================] - 2s 1ms/step - loss: 0.0306 - accuracy: 0.9932 - val_loss: 1.0754 - val_accuracy: 0.7636\n",
            "Epoch 20/20\n",
            "1481/1481 [==============================] - 2s 1ms/step - loss: 0.0245 - accuracy: 0.9899 - val_loss: 1.0652 - val_accuracy: 0.7879\n"
          ],
          "name": "stdout"
        },
        {
          "output_type": "execute_result",
          "data": {
            "text/plain": [
              "<keras.callbacks.callbacks.History at 0x7f5b6e69f048>"
            ]
          },
          "metadata": {
            "tags": []
          },
          "execution_count": 55
        }
      ]
    },
    {
      "cell_type": "code",
      "metadata": {
        "id": "3enGWV3abAD4",
        "colab_type": "code",
        "outputId": "9132a9f5-ca9b-47f6-a321-e2f24c7e34a6",
        "colab": {
          "base_uri": "https://localhost:8080/",
          "height": 138
        }
      },
      "source": [
        "print(y_train)"
      ],
      "execution_count": 0,
      "outputs": [
        {
          "output_type": "stream",
          "text": [
            "[[0]\n",
            " [0]\n",
            " [1]\n",
            " ...\n",
            " [1]\n",
            " [0]\n",
            " [1]]\n"
          ],
          "name": "stdout"
        }
      ]
    }
  ]
}